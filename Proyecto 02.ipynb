{
 "cells": [
  {
   "cell_type": "markdown",
   "metadata": {},
   "source": [
    "<center>\n",
    "    <h1> Proyecto #2 - Métodos basados en transformadas de Fourier </h1>\n",
    "    <h4 style=\"margin:10px;\"> IPM-407 - Modelación Computacional con Algoritmos Rápidos </h4>\n",
    "    <h3> Hernán Vargas -- 201073009-3 </h3>\n",
    "    <h4 style=\"margin:5px;\"> hernan.vargas@alumnos.usm.cl </h4>\n",
    "</center>\n",
    "\n",
    "*(Se recomienda la visualización de este documento en Jupyter Notebook 5.0, Kernel: Python 3.5.2)*"
   ]
  },
  {
   "cell_type": "markdown",
   "metadata": {},
   "source": [
    "## Descripción\n",
    "Consideren la siguiente ecuación de Poisson\n",
    "$$\n",
    "    \\frac{\\partial^2\\phi}{\\partial x^2} + \\frac{\\partial^2\\phi}{\\partial y^2} =\n",
    "    \\frac{1}{\\pi^2} \\Big[ \n",
    "        30 \\Big( \\big(\\frac{x}{\\pi}\\big)^2 - \\frac{x}{\\pi}\\Big) + \n",
    "        30 \\Big( \\big(\\frac{y}{\\pi}\\big)^2 - \\frac{y}{\\pi}\\Big) -\n",
    "        4\\pi^2 \\big(\\frac{x}{\\pi} - 1 \\big)\\sin(2y)\n",
    "    \\Big]\n",
    "$$\n",
    "en el cuadrado $0 \\leq x \\leq \\pi$ y $0 \\leq y \\leq \\pi$ y con condiciones de contorno $\\phi(0,y) = \\phi(\\pi,y) = \\phi(x,0) = \\phi(x,\\pi)= 0$.\n",
    "\n",
    "Resuelvan numéricamente esta ecuación usando:\n",
    "1. Método espectral.\n",
    "2. Diferencias finitas aceleradas con FFT en 2D (tipo pregunta 4 de la tarea 2).\n",
    "3. Diferencias finitas aceleradas con FFT en 1D (tipo pregunta 5 de la tarea 2).\n",
    "\n",
    "Para mallas de $N=[16,32,64,128]$ nodos (o más!)."
   ]
  },
  {
   "cell_type": "markdown",
   "metadata": {},
   "source": [
    "En su informe, detalle la implemtación de cada técnica y discuta los siguientes puntos:\n",
    "1. Convergencia del error.\n",
    "2. Complejidad Algoritmica (N versus Tiempo).\n",
    "3. Memoria utilizada.\n",
    "4. Conclusiones con respecto a la conveniencia de cada caso.\n",
    "\n",
    "La solución analitica de la ecuación es:\n",
    "\n",
    "$$ \\phi(x,y) = \n",
    "        15\\Big(\\big(\\frac{x}{\\pi}\\big)^2-\\frac{x}{\\pi}\\Big)\\Big(\\big(\\frac{y}{\\pi}\\big)^2-\\frac{y}{\\pi}\\Big) -\n",
    "        \\sin(2y)\\frac{\\sinh\\big(2\\pi(\\frac{x}{\\pi}-1)\\big)}{\\sinh(2\\pi)} + \n",
    "        \\Big(\\frac{x}{\\pi} - 1\\Big)\\sin(2y)\n",
    "$$"
   ]
  },
  {
   "cell_type": "markdown",
   "metadata": {},
   "source": [
    "**Ayuda:**\n",
    "- Esta tarea está inspirada en el ejemplo del libro *fundamentals of Engineering Numerical Analysis* de Parviz Moin\n",
    "- Las condiciones de borde homogénea $\\phi=0$ en los bordes son concordantes con la función seno, por lo tanto es más conveniente usar la transformada del seno. Hay una implementación de transformada del seno en `scipy.fftpack`. Otra opción es calcular la transformada discreta del seno con la función proveída.\n",
    "---"
   ]
  },
  {
   "cell_type": "markdown",
   "metadata": {},
   "source": [
    "## Preliminares\n",
    "Comenzamos importando las bibliotecas necesarias y definiendo las variables y funciones necesarias."
   ]
  },
  {
   "cell_type": "code",
   "execution_count": 28,
   "metadata": {
    "collapsed": true
   },
   "outputs": [],
   "source": [
    "import numpy as np\n",
    "import scipy\n",
    "from scipy import sparse as sp;\n",
    "from scipy.sparse import linalg as spla;\n",
    "import matplotlib\n",
    "import matplotlib.pyplot as plt\n",
    "#import time;\n",
    "from dcst import * # http://www-personal.umich.edu/~mejn/computational-physics/dcst.py"
   ]
  },
  {
   "cell_type": "markdown",
   "metadata": {},
   "source": [
    "Y los parametros y funciones proveídas en el enunciado del proyecto."
   ]
  },
  {
   "cell_type": "code",
   "execution_count": 38,
   "metadata": {
    "collapsed": true
   },
   "outputs": [],
   "source": [
    "#Función proveída en el proyecto\n",
    "def dst_2D(x):\n",
    "    M, N = np.shape(x)\n",
    "    x = x[1:M-1,:]\n",
    "    M,N = np.shape(x)\n",
    "    y = np.zeros((2*(M+1),N))\n",
    "    y[0,:] = np.zeros(N)[:]\n",
    "    y[1:M+1,:] = x[:,:]\n",
    "    y[M+1,:] = np.zeros(N)[:]\n",
    "    y[M+2:2*M+ 2,:] = -np.flipud(x)[:,:]\n",
    "    y_t = np.fft.fft(np.transpose(y))\n",
    "    y_t = np.transpose(y_t)\n",
    "    y = np.real((y_t[1:M+1])/(-1j*(M+1)))\n",
    "    yy = np.zeros((M+2,N))\n",
    "    yy[1:M+1,:] = y[:,:]\n",
    "    return yy\n",
    "\n",
    "#Considerando que la transformada inversa del seno es igual a la transformada del seno multiplicada por N/2\n",
    "def idst_2D(x):\n",
    "    r = dst_2D(x)\n",
    "    return (r.shape[0]/2) * r"
   ]
  },
  {
   "cell_type": "code",
   "execution_count": 45,
   "metadata": {
    "collapsed": true
   },
   "outputs": [],
   "source": [
    "#Parametros generales.\n",
    "pi = np.pi\n",
    "N  = [16, 32, 64, 128, 256]"
   ]
  },
  {
   "cell_type": "markdown",
   "metadata": {},
   "source": [
    "Definimos la solución analitica como sigue:"
   ]
  },
  {
   "cell_type": "code",
   "execution_count": 3,
   "metadata": {
    "collapsed": true
   },
   "outputs": [],
   "source": [
    "sol = lambda x,y: 15*((x/pi)**2 - x/pi)*((y/pi)**2 - y/pi) \\\n",
    "                  - np.sin(2*y)*np.sinh(2*pi*((x/pi)-1))/np.sinh(2*pi) + np.sin(2*y)*((x/pi)-1)"
   ]
  },
  {
   "cell_type": "markdown",
   "metadata": {},
   "source": [
    "Además podemos escribir la ecuación de Poisson del proyecto como:\n",
    "$$ \\frac{\\partial^2\\phi}{\\partial x^2} + \\frac{\\partial^2\\phi}{\\partial y^2} = f(x,y) $$\n",
    "$$  f(x,y) = \\frac{1}{\\pi^2} \\Big[ \n",
    "        30 \\Big( \\big(\\frac{x}{\\pi}\\big)^2 - \\frac{x}{\\pi}\\Big) + \n",
    "        30 \\Big( \\big(\\frac{y}{\\pi}\\big)^2 - \\frac{y}{\\pi}\\Big) -\n",
    "        4\\pi^2 \\big(\\frac{x}{\\pi} - 1 \\big)\\sin(2y)\n",
    "    \\Big]\n",
    "$$\n",
    "y creamos la función $f$:"
   ]
  },
  {
   "cell_type": "code",
   "execution_count": 4,
   "metadata": {
    "collapsed": true
   },
   "outputs": [],
   "source": [
    "f = lambda x,y: 30*((x/pi)**2 + (y/pi)**2 - (x/pi) - (y/pi))/(pi**2) - 4*np.sin(2*y)*((x/pi)-1)"
   ]
  },
  {
   "cell_type": "markdown",
   "metadata": {},
   "source": [
    "Tambien necesitamos una función para evaluar dichas ecuaciones en mallas con un número arbitrario de puntos"
   ]
  },
  {
   "cell_type": "code",
   "execution_count": 5,
   "metadata": {
    "collapsed": true
   },
   "outputs": [],
   "source": [
    "def mk_grid(n, func, maxrg = np.pi):\n",
    "    \"\"\" Crea una grilla de nxn puntos con la función evaluada.\n",
    "    Argumentos:\n",
    "        n     - Número de puntos por dimensión de la grilla.\n",
    "        func  - Función a evaluar en cada punto.\n",
    "        maxrg - (Opcional) rango máximo de la grilla, por defecto Pi.\n",
    "    Retorna: Grilla de nxn con la función evaluada en cada punto.\"\"\"\n",
    "    x = np.linspace(0, maxrg, n)\n",
    "    y = np.linspace(0, maxrg, n)\n",
    "    return func(x[None,:], y[:,None])"
   ]
  },
  {
   "cell_type": "markdown",
   "metadata": {},
   "source": [
    "Por último, una función para graficar los resultados:"
   ]
  },
  {
   "cell_type": "code",
   "execution_count": 6,
   "metadata": {
    "collapsed": true
   },
   "outputs": [],
   "source": [
    "def plot(array):\n",
    "    \"\"\" Grafica una matriz.\n",
    "    Argumentos:\n",
    "        array - Matriz a graficar. \"\"\"\n",
    "    plt.imshow(array, cmap=\"jet\", origin=\"lower\")\n",
    "    plt.colorbar()\n",
    "    plt.show()"
   ]
  },
  {
   "cell_type": "markdown",
   "metadata": {},
   "source": [
    "---\n",
    "## Métodos\n",
    "Por las condiciones de borde del problema, los métodos implementados utilizand la transformada del seno."
   ]
  },
  {
   "cell_type": "markdown",
   "metadata": {},
   "source": [
    "### Método espectral\n",
    "Sabemos que:\n",
    "$$\n",
    "    u_{mn}(x,y) = \\sum_{j=1}^{M-1}\\sum_{k=1}^{N-1} U_{jk}\n",
    "    \\sin\\Big(\\frac{\\pi mj}{M}\\Big)\\sin\\Big(\\frac{\\pi nk}{N}\\Big) \\qquad\n",
    "    \\text{con: } x=\\frac{\\pi m}{M}, \\, y=\\frac{\\pi n}{N}\n",
    "$$\n",
    "Derivando tenemos:\n",
    "$$\n",
    "    \\frac{\\partial u_{mn}}{\\partial x} = \n",
    "    \\sum_{j=1}^{M-1}\\sum_{k=1}^{N-1} -j U_{jk}\n",
    "    \\cos\\Big(\\frac{\\pi mj}{M}\\Big)\\sin\\Big(\\frac{\\pi nk}{N}\\Big) \n",
    "$$\n",
    "$$\n",
    "    \\frac{\\partial^2 u_{mn}}{\\partial x^2} = \n",
    "    \\sum_{j=1}^{M-1}\\sum_{k=1}^{N-1} -j^2U_{jk}\n",
    "    \\sin\\Big(\\frac{\\pi mj}{M}\\Big)\\sin\\Big(\\frac{\\pi nk}{N}\\Big)\n",
    "$$\n",
    "Análogamente para las derivadas de $y$"
   ]
  },
  {
   "cell_type": "markdown",
   "metadata": {},
   "source": [
    "Aplicando esto a nuestro problema (y cambiando de $\\phi$ a $u$) tenemos:\n",
    "$$ \\frac{\\partial^2u}{\\partial x^2} + \\frac{\\partial^2u}{\\partial y^2} = f(x,y) $$\n",
    "$$  \n",
    "    \\sum_{j=1}^{M-1} \\sum_{k=1}^{N-1} -j^2U_{jk} \\sin\\Big(\\frac{\\pi mj}{M}\\Big)\\sin\\Big(\\frac{\\pi nk}{N}\\Big) + \n",
    "    \\sum_{j=1}^{M-1} \\sum_{k=1}^{N-1} -k^2U_{jk} \\sin\\Big(\\frac{\\pi mj}{M}\\Big)\\sin\\Big(\\frac{\\pi nk}{N}\\Big) = \n",
    "    \\sum_{j=1}^{M-1} \\sum_{k=1}^{N-1} F_{jk} \\sin\\Big(\\frac{\\pi mj}{M}\\Big)\\sin\\Big(\\frac{\\pi nk}{N}\\Big)\n",
    "$$\n",
    "$$ -j^2U_{jk} -k^2U_{jk} = F_{jk} \\implies U_{jk} = \\frac{-1}{j^2 + k^2}F_{jk} $$"
   ]
  },
  {
   "cell_type": "markdown",
   "metadata": {},
   "source": [
    "Como podemos notar, en $(0,0)$ la ecuación se indetermina, este termino lo podemos reemplazar por 0 debido a las condiciones de borde."
   ]
  },
  {
   "cell_type": "code",
   "execution_count": 11,
   "metadata": {
    "collapsed": true
   },
   "outputs": [],
   "source": [
    "#Constante de nuestro problema para el método espectral.\n",
    "spectral_const = lambda x,y: -1/(x**2 + y**2)\n",
    "def spectral(f):\n",
    "    \"\"\" Resuelve el problema propuesto por el método espectral.\n",
    "    Argumentos:\n",
    "        f -- Grilla con el lado derecho de la ecuación evaluada.\n",
    "    Retorna: Grilla con la solución del problema en cada punto. \"\"\"\n",
    "    n = f.shape[0]\n",
    "    F = dst2(f)\n",
    "    C = mk_grid(n, spectral_const, n-1)\n",
    "    C[0,0] = 0 # Por las condiciones de borde.\n",
    "    return idst2(F*C)"
   ]
  },
  {
   "cell_type": "code",
   "execution_count": 13,
   "metadata": {
    "collapsed": true
   },
   "outputs": [
    {
     "name": "stderr",
     "output_type": "stream",
     "text": [
      "/usr/local/lib/python3.5/dist-packages/ipykernel_launcher.py:2: RuntimeWarning: divide by zero encountered in true_divide\n",
      "  \n"
     ]
    },
    {
     "data": {
      "image/png": "[encoded data removed]",
      "text/plain": [
       "<matplotlib.figure.Figure at 0x7f1ce9817d68>"
      ]
     },
     "metadata": {},
     "output_type": "display_data"
    },
    {
     "data": {
      "image/png": "[encoded data removed]",
      "text/plain": [
       "<matplotlib.figure.Figure at 0x7f1ce965a9b0>"
      ]
     },
     "metadata": {},
     "output_type": "display_data"
    }
   ],
   "source": [
    "test = mk_grid(64, f)\n",
    "u = spectral(test)\n",
    "plot(u)\n",
    "plot(mk_grid(64,sol))"
   ]
  },
  {
   "cell_type": "markdown",
   "metadata": {},
   "source": [
    "### Diferencias finitas aceleradas con FFT en 2D\n",
    "Usando diferencias finitas como es usual tenemos:\n",
    "$$ \\frac{\\partial^2\\phi}{\\partial x^2} = \\frac{\\phi_{i-1,j} - 2 \\phi_{i,j} + \\phi_{i+1,j}}{\\Delta x^2}$$\n",
    "$$ \\frac{\\partial^2\\phi}{\\partial y^2} = \\frac{\\phi_{i,j-1} - 2 \\phi_{i,j} + \\phi_{i,j+1}}{\\Delta y^2}$$\n",
    "Nos queda:\n",
    "$$  \\frac{\\phi_{i-1,j} - 2 \\phi_{i,j} + \\phi_{i+1,j}}{\\Delta x^2} + \n",
    "    \\frac{\\phi_{i,j-1} - 2 \\phi_{i,j} + \\phi_{i,j+1}}{\\Delta y^2} = f_{i,j}  $$\n",
    "\n",
    "En particular, teniendo en consideración que $\\Delta x^2 = \\Delta y^2 = \\Delta^2$, cambiando los indices de $i,j$ a $m,n$ (para no tener problemas con $i$ de los números imaginarios) y de $\\phi$ a $u$ podemos escribir la ecuación como:\n",
    "$$ u_{m-1,n} + u_{m+1,n} + u_{m,n-1} + u_{m,n+1} - 4u_{m,n} = \\Delta^2 f_{m,n} $$"
   ]
  },
  {
   "cell_type": "markdown",
   "metadata": {},
   "source": [
    "Como queremos aplicar la transformada del seno a esta ecuación, necesitamos saber como queda expresada para los valores desplazados:\n",
    "$$\n",
    "    u_{m\\pm a,n\\pm b} = \n",
    "    \\sum_{j=1}^{M-1}\\sum_{k=1}^{N-1} U_{jk}\n",
    "        \\sin\\Big(\\frac{\\pi (m\\pm a)j}{M}\\Big)\n",
    "        \\sin\\Big(\\frac{\\pi (n\\pm b)k}{N}\\Big) =\n",
    "    \\sum_{j=1}^{M-1}\\sum_{k=1}^{N-1} U_{jk}\n",
    "        \\sin\\Big(\\frac{\\pi mj}{M} \\pm \\frac{\\pi aj}{M}\\Big)\n",
    "        \\sin\\Big(\\frac{\\pi nk}{N} \\pm \\frac{\\pi bk}{N}\\Big)\n",
    "$$\n",
    "Donde podemos utilizar $\\sin(x\\pm y) = \\sin(x)\\cos(y) \\pm \\cos(x)\\sin(y)$."
   ]
  },
  {
   "cell_type": "markdown",
   "metadata": {},
   "source": [
    "Para el movimiento en el eje horizontal ($a=\\pm 1, b=0$) los senos quedan:\n",
    "\\begin{align}\n",
    "    u_{m-1,n} + u_{m+1,n} \n",
    "        &= \\sin\\Big(\\frac{\\pi nk}{N}\\Big) \\Big[\n",
    "            \\sin\\Big(\\frac{\\pi mj}{M} - \\frac{\\pi j}{M}\\Big) +\n",
    "            \\sin\\Big(\\frac{\\pi mj}{M} + \\frac{\\pi j}{M}\\Big)\n",
    "        \\Big] \\\\\n",
    "        &= 2 \\sin\\Big(\\frac{\\pi nk}{N}\\Big) \\sin\\Big(\\frac{\\pi mj}{M}\\Big) \\cos\\Big(\\frac{\\pi j}{M}\\Big)\n",
    "\\end{align}\n",
    "Análogo para el eje vertical"
   ]
  },
  {
   "cell_type": "markdown",
   "metadata": {},
   "source": [
    "Aplicando esto a nuestro problema y agrupando nos queda:\n",
    "\\begin{align}\n",
    "    \\sum_{j=1}^{M-1} \\sum_{k=1}^{N-1} U_{jk} \n",
    "        \\sin\\Big(\\frac{\\pi mj}{M}\\Big)\\sin\\Big(\\frac{\\pi nk}{N}\\Big) \n",
    "        \\Big[2\\cos\\Big(\\frac{\\pi j}{M}\\Big) + 2\\cos\\Big(\\frac{\\pi k}{N}\\Big) - 4 \\Big] &= \n",
    "    \\Delta^2\\sum_{j=1}^{M-1} \\sum_{k=1}^{N-1} F_{jk} \n",
    "        \\sin\\Big(\\frac{\\pi mj}{M}\\Big)\\sin\\Big(\\frac{\\pi nk}{N}\\Big) \\\\\n",
    "    U_{jk} &=\n",
    "    \\frac{\\Delta^2}{2\\big(\\cos\\big(\\frac{\\pi j}{M}\\big) + \\cos\\big(\\frac{\\pi k}{N}\\big) - 2\\big)} F_{jk}\n",
    "\\end{align}"
   ]
  },
  {
   "cell_type": "code",
   "execution_count": 26,
   "metadata": {
    "collapsed": true
   },
   "outputs": [],
   "source": [
    "def fast2d(f):\n",
    "    n = f.shape[0]\n",
    "    delta = pi/n\n",
    "    #Constante de nuestro problema para diferencias finitas aceleradas con FFT en 2D.\n",
    "    const = lambda x,y: (delta**2)/(2*(np.cos(pi*x/n) + np.cos(pi*y/n) -2))\n",
    "    F = dst2(f)\n",
    "    C = mk_grid(n, const, n-1)\n",
    "    C[0,0] = 0 # Por las condiciones de borde.\n",
    "    return idst2(F*C)"
   ]
  },
  {
   "cell_type": "code",
   "execution_count": 27,
   "metadata": {
    "collapsed": true
   },
   "outputs": [
    {
     "name": "stderr",
     "output_type": "stream",
     "text": [
      "/usr/local/lib/python3.5/dist-packages/ipykernel_launcher.py:5: RuntimeWarning: divide by zero encountered in true_divide\n",
      "  \"\"\"\n"
     ]
    },
    {
     "data": {
      "image/png": "[encoded data removed]",
      "text/plain": [
       "<matplotlib.figure.Figure at 0x7f1ce9540048>"
      ]
     },
     "metadata": {},
     "output_type": "display_data"
    },
    {
     "data": {
      "image/png": "[encoded data removed]",
      "text/plain": [
       "<matplotlib.figure.Figure at 0x7f1ce9540f60>"
      ]
     },
     "metadata": {},
     "output_type": "display_data"
    }
   ],
   "source": [
    "test = mk_grid(16, f)\n",
    "u = fast2d(test)\n",
    "plot(u)\n",
    "plot(mk_grid(16,sol))"
   ]
  },
  {
   "cell_type": "markdown",
   "metadata": {},
   "source": [
    "#### Diferencias finitas aceleradas con FFT en 1D\n",
    "La ecuación a resolver obtenida anteriormente es:\n",
    "$$ u_{m-1,n} + u_{m+1,n} + u_{m,n-1} + u_{m,n+1} - 4u_{m,n} = \\Delta^2 f_{m,n} $$\n",
    "La transformada unidimensional desplazada queda como:\n",
    "$$\n",
    "    u_{m\\pm a, n\\pm b} = \\sum_{j=1}^{M-1} U_{j,n\\pm b}\\sin\\Big(\\frac{\\pi (m\\pm a)j}{M}\\Big)\n",
    "$$"
   ]
  },
  {
   "cell_type": "markdown",
   "metadata": {},
   "source": [
    "Análogamente al ejercicio anterior, podemos expresar los senos del eje horizontal como:\n",
    "$$\n",
    "    u_{m-1,n} + u_{m+1,n} = 2\\sin\\Big(\\frac{\\pi mj}{M}\\Big)\\cos\\Big(\\frac{\\pi j}{M}\\Big)\n",
    "$$"
   ]
  },
  {
   "cell_type": "markdown",
   "metadata": {},
   "source": [
    "Aplicando la transformada del seno a toda la ecuación y agrupando nos queda:\n",
    "\\begin{align}\n",
    "    \\sum_{j=1}^{M-1}\\Bigg(\n",
    "        U_{j,n-1} +\n",
    "        \\Big[2\\cos\\Big(\\frac{\\pi j}{M}\\Big) -4 \\Big] U_{j,n} +\n",
    "        U_{j,n+1}\n",
    "    \\Bigg) \\sin\\Big(\\frac{\\pi mj}{M}\\Big) &= \n",
    "    \\Delta^2 \\sum_{j=1}^{M-1} F_{jn} \\sin\\Big(\\frac{\\pi mj}{M}\\Big) \\\\\n",
    "    U_{j,n-1} + \\Big[2\\cos\\Big(\\frac{\\pi j}{M}\\Big) -4 \\Big] U_{j,n} + U_{j,n+1} &= \\Delta^2 F_{jn}\n",
    "\\end{align}\n",
    "Obteniendo un sistema tridiagonal con el cual podemos resolver el problema."
   ]
  },
  {
   "cell_type": "code",
   "execution_count": 39,
   "metadata": {
    "collapsed": true
   },
   "outputs": [],
   "source": [
    "def fast1d(f):\n",
    "    M     = f.shape[0]\n",
    "    delta = pi/M\n",
    "    d2F   = (delta**2) * dst_2D(f) #Transformada por fila * delta^2\n",
    "    U     = np.zeros((M, M))\n",
    "    for m in range(1,M-1): #Rango sin los bordes ya que valen 0\n",
    "        ec = sp.diags([1, 2*np.cos(pi*m/M) - 4, 1], [-1, 0, 1], shape=(M-2,M-2), format=\"csr\")\n",
    "        U[m,1:-1] = spla.spsolve(ec, d2F[m,1:-1])\n",
    "    return idst_2D(U) #Transformada inversa"
   ]
  },
  {
   "cell_type": "code",
   "execution_count": 40,
   "metadata": {
    "collapsed": true
   },
   "outputs": [
    {
     "data": {
      "image/png": "[encoded data removed]",
      "text/plain": [
       "<matplotlib.figure.Figure at 0x7f1d13889438>"
      ]
     },
     "metadata": {},
     "output_type": "display_data"
    },
    {
     "data": {
      "image/png": "[encoded data removed]",
      "text/plain": [
       "<matplotlib.figure.Figure at 0x7f1ce94250f0>"
      ]
     },
     "metadata": {},
     "output_type": "display_data"
    }
   ],
   "source": [
    "test = mk_grid(16, f)\n",
    "u = fast1d(test)\n",
    "plot(u)\n",
    "plot(mk_grid(16,sol))"
   ]
  },
  {
   "cell_type": "markdown",
   "metadata": {},
   "source": [
    "### Experimentos\n",
    "Se ejecutan los experimentos para las cantidades de nodos por dimensión requeridos"
   ]
  },
  {
   "cell_type": "code",
   "execution_count": 46,
   "metadata": {},
   "outputs": [],
   "source": [
    "# Inicializando la memoria\n",
    "# sp: spectral method, 2d: FDM FFT 2D, 1d: FDM FFT 1D\n",
    "methods = {\"sp\": spectral, \"2d\": fast2d, \"1d\": fast1d }\n",
    "data = {}\n",
    "for key in methods:\n",
    "    data[key] = {}\n",
    "    for n in N:\n",
    "        data[key][n] = {\"result\": None, \"time\": -1, \"mem\": -1, \"err\": -1 }"
   ]
  },
  {
   "cell_type": "code",
   "execution_count": 52,
   "metadata": {},
   "outputs": [
    {
     "ename": "ImportError",
     "evalue": "No module named 'memory_profiler'",
     "output_type": "error",
     "traceback": [
      "\u001b[0;31m---------------------------------------------------------------------------\u001b[0m",
      "\u001b[0;31mImportError\u001b[0m                               Traceback (most recent call last)",
      "\u001b[0;32m<ipython-input-52-16e3749c479d>\u001b[0m in \u001b[0;36m<module>\u001b[0;34m()\u001b[0m\n\u001b[0;32m----> 1\u001b[0;31m \u001b[0mget_ipython\u001b[0m\u001b[0;34m(\u001b[0m\u001b[0;34m)\u001b[0m\u001b[0;34m.\u001b[0m\u001b[0mmagic\u001b[0m\u001b[0;34m(\u001b[0m\u001b[0;34m'load_ext memory_profiler'\u001b[0m\u001b[0;34m)\u001b[0m\u001b[0;34m\u001b[0m\u001b[0m\n\u001b[0m\u001b[1;32m      2\u001b[0m \u001b[0;32mimport\u001b[0m \u001b[0mmemory_profiler\u001b[0m\u001b[0;34m\u001b[0m\u001b[0m\n\u001b[1;32m      3\u001b[0m \u001b[0mtest\u001b[0m \u001b[0;34m=\u001b[0m \u001b[0mmk_grid\u001b[0m\u001b[0;34m(\u001b[0m\u001b[0;36m8\u001b[0m\u001b[0;34m,\u001b[0m \u001b[0mf\u001b[0m\u001b[0;34m)\u001b[0m\u001b[0;34m\u001b[0m\u001b[0m\n\u001b[1;32m      4\u001b[0m \u001b[0;31m#%timeit fast1d(test)\u001b[0m\u001b[0;34m\u001b[0m\u001b[0;34m\u001b[0m\u001b[0m\n\u001b[1;32m      5\u001b[0m \u001b[0mget_ipython\u001b[0m\u001b[0;34m(\u001b[0m\u001b[0;34m)\u001b[0m\u001b[0;34m.\u001b[0m\u001b[0mmagic\u001b[0m\u001b[0;34m(\u001b[0m\u001b[0;34m'memit fast1d(test)'\u001b[0m\u001b[0;34m)\u001b[0m\u001b[0;34m\u001b[0m\u001b[0m\n",
      "\u001b[0;32m/usr/local/lib/python3.5/dist-packages/IPython/core/interactiveshell.py\u001b[0m in \u001b[0;36mmagic\u001b[0;34m(self, arg_s)\u001b[0m\n\u001b[1;32m   2128\u001b[0m         \u001b[0mmagic_name\u001b[0m\u001b[0;34m,\u001b[0m \u001b[0m_\u001b[0m\u001b[0;34m,\u001b[0m \u001b[0mmagic_arg_s\u001b[0m \u001b[0;34m=\u001b[0m \u001b[0marg_s\u001b[0m\u001b[0;34m.\u001b[0m\u001b[0mpartition\u001b[0m\u001b[0;34m(\u001b[0m\u001b[0;34m' '\u001b[0m\u001b[0;34m)\u001b[0m\u001b[0;34m\u001b[0m\u001b[0m\n\u001b[1;32m   2129\u001b[0m         \u001b[0mmagic_name\u001b[0m \u001b[0;34m=\u001b[0m \u001b[0mmagic_name\u001b[0m\u001b[0;34m.\u001b[0m\u001b[0mlstrip\u001b[0m\u001b[0;34m(\u001b[0m\u001b[0mprefilter\u001b[0m\u001b[0;34m.\u001b[0m\u001b[0mESC_MAGIC\u001b[0m\u001b[0;34m)\u001b[0m\u001b[0;34m\u001b[0m\u001b[0m\n\u001b[0;32m-> 2130\u001b[0;31m         \u001b[0;32mreturn\u001b[0m \u001b[0mself\u001b[0m\u001b[0;34m.\u001b[0m\u001b[0mrun_line_magic\u001b[0m\u001b[0;34m(\u001b[0m\u001b[0mmagic_name\u001b[0m\u001b[0;34m,\u001b[0m \u001b[0mmagic_arg_s\u001b[0m\u001b[0;34m)\u001b[0m\u001b[0;34m\u001b[0m\u001b[0m\n\u001b[0m\u001b[1;32m   2131\u001b[0m \u001b[0;34m\u001b[0m\u001b[0m\n\u001b[1;32m   2132\u001b[0m     \u001b[0;31m#-------------------------------------------------------------------------\u001b[0m\u001b[0;34m\u001b[0m\u001b[0;34m\u001b[0m\u001b[0m\n",
      "\u001b[0;32m/usr/local/lib/python3.5/dist-packages/IPython/core/interactiveshell.py\u001b[0m in \u001b[0;36mrun_line_magic\u001b[0;34m(self, magic_name, line)\u001b[0m\n\u001b[1;32m   2049\u001b[0m                 \u001b[0mkwargs\u001b[0m\u001b[0;34m[\u001b[0m\u001b[0;34m'local_ns'\u001b[0m\u001b[0;34m]\u001b[0m \u001b[0;34m=\u001b[0m \u001b[0msys\u001b[0m\u001b[0;34m.\u001b[0m\u001b[0m_getframe\u001b[0m\u001b[0;34m(\u001b[0m\u001b[0mstack_depth\u001b[0m\u001b[0;34m)\u001b[0m\u001b[0;34m.\u001b[0m\u001b[0mf_locals\u001b[0m\u001b[0;34m\u001b[0m\u001b[0m\n\u001b[1;32m   2050\u001b[0m             \u001b[0;32mwith\u001b[0m \u001b[0mself\u001b[0m\u001b[0;34m.\u001b[0m\u001b[0mbuiltin_trap\u001b[0m\u001b[0;34m:\u001b[0m\u001b[0;34m\u001b[0m\u001b[0m\n\u001b[0;32m-> 2051\u001b[0;31m                 \u001b[0mresult\u001b[0m \u001b[0;34m=\u001b[0m \u001b[0mfn\u001b[0m\u001b[0;34m(\u001b[0m\u001b[0;34m*\u001b[0m\u001b[0margs\u001b[0m\u001b[0;34m,\u001b[0m\u001b[0;34m**\u001b[0m\u001b[0mkwargs\u001b[0m\u001b[0;34m)\u001b[0m\u001b[0;34m\u001b[0m\u001b[0m\n\u001b[0m\u001b[1;32m   2052\u001b[0m             \u001b[0;32mreturn\u001b[0m \u001b[0mresult\u001b[0m\u001b[0;34m\u001b[0m\u001b[0m\n\u001b[1;32m   2053\u001b[0m \u001b[0;34m\u001b[0m\u001b[0m\n",
      "\u001b[0;32m<decorator-gen-63>\u001b[0m in \u001b[0;36mload_ext\u001b[0;34m(self, module_str)\u001b[0m\n",
      "\u001b[0;32m/usr/local/lib/python3.5/dist-packages/IPython/core/magic.py\u001b[0m in \u001b[0;36m<lambda>\u001b[0;34m(f, *a, **k)\u001b[0m\n\u001b[1;32m    186\u001b[0m     \u001b[0;31m# but it's overkill for just that one bit of state.\u001b[0m\u001b[0;34m\u001b[0m\u001b[0;34m\u001b[0m\u001b[0m\n\u001b[1;32m    187\u001b[0m     \u001b[0;32mdef\u001b[0m \u001b[0mmagic_deco\u001b[0m\u001b[0;34m(\u001b[0m\u001b[0marg\u001b[0m\u001b[0;34m)\u001b[0m\u001b[0;34m:\u001b[0m\u001b[0;34m\u001b[0m\u001b[0m\n\u001b[0;32m--> 188\u001b[0;31m         \u001b[0mcall\u001b[0m \u001b[0;34m=\u001b[0m \u001b[0;32mlambda\u001b[0m \u001b[0mf\u001b[0m\u001b[0;34m,\u001b[0m \u001b[0;34m*\u001b[0m\u001b[0ma\u001b[0m\u001b[0;34m,\u001b[0m \u001b[0;34m**\u001b[0m\u001b[0mk\u001b[0m\u001b[0;34m:\u001b[0m \u001b[0mf\u001b[0m\u001b[0;34m(\u001b[0m\u001b[0;34m*\u001b[0m\u001b[0ma\u001b[0m\u001b[0;34m,\u001b[0m \u001b[0;34m**\u001b[0m\u001b[0mk\u001b[0m\u001b[0;34m)\u001b[0m\u001b[0;34m\u001b[0m\u001b[0m\n\u001b[0m\u001b[1;32m    189\u001b[0m \u001b[0;34m\u001b[0m\u001b[0m\n\u001b[1;32m    190\u001b[0m         \u001b[0;32mif\u001b[0m \u001b[0mcallable\u001b[0m\u001b[0;34m(\u001b[0m\u001b[0marg\u001b[0m\u001b[0;34m)\u001b[0m\u001b[0;34m:\u001b[0m\u001b[0;34m\u001b[0m\u001b[0m\n",
      "\u001b[0;32m/usr/local/lib/python3.5/dist-packages/IPython/core/magics/extension.py\u001b[0m in \u001b[0;36mload_ext\u001b[0;34m(self, module_str)\u001b[0m\n\u001b[1;32m     34\u001b[0m         \u001b[0;32mif\u001b[0m \u001b[0;32mnot\u001b[0m \u001b[0mmodule_str\u001b[0m\u001b[0;34m:\u001b[0m\u001b[0;34m\u001b[0m\u001b[0m\n\u001b[1;32m     35\u001b[0m             \u001b[0;32mraise\u001b[0m \u001b[0mUsageError\u001b[0m\u001b[0;34m(\u001b[0m\u001b[0;34m'Missing module name.'\u001b[0m\u001b[0;34m)\u001b[0m\u001b[0;34m\u001b[0m\u001b[0m\n\u001b[0;32m---> 36\u001b[0;31m         \u001b[0mres\u001b[0m \u001b[0;34m=\u001b[0m \u001b[0mself\u001b[0m\u001b[0;34m.\u001b[0m\u001b[0mshell\u001b[0m\u001b[0;34m.\u001b[0m\u001b[0mextension_manager\u001b[0m\u001b[0;34m.\u001b[0m\u001b[0mload_extension\u001b[0m\u001b[0;34m(\u001b[0m\u001b[0mmodule_str\u001b[0m\u001b[0;34m)\u001b[0m\u001b[0;34m\u001b[0m\u001b[0m\n\u001b[0m\u001b[1;32m     37\u001b[0m \u001b[0;34m\u001b[0m\u001b[0m\n\u001b[1;32m     38\u001b[0m         \u001b[0;32mif\u001b[0m \u001b[0mres\u001b[0m \u001b[0;34m==\u001b[0m \u001b[0;34m'already loaded'\u001b[0m\u001b[0;34m:\u001b[0m\u001b[0;34m\u001b[0m\u001b[0m\n",
      "\u001b[0;32m/usr/local/lib/python3.5/dist-packages/IPython/core/extensions.py\u001b[0m in \u001b[0;36mload_extension\u001b[0;34m(self, module_str)\u001b[0m\n\u001b[1;32m     85\u001b[0m             \u001b[0;32mif\u001b[0m \u001b[0mmodule_str\u001b[0m \u001b[0;32mnot\u001b[0m \u001b[0;32min\u001b[0m \u001b[0msys\u001b[0m\u001b[0;34m.\u001b[0m\u001b[0mmodules\u001b[0m\u001b[0;34m:\u001b[0m\u001b[0;34m\u001b[0m\u001b[0m\n\u001b[1;32m     86\u001b[0m                 \u001b[0;32mwith\u001b[0m \u001b[0mprepended_to_syspath\u001b[0m\u001b[0;34m(\u001b[0m\u001b[0mself\u001b[0m\u001b[0;34m.\u001b[0m\u001b[0mipython_extension_dir\u001b[0m\u001b[0;34m)\u001b[0m\u001b[0;34m:\u001b[0m\u001b[0;34m\u001b[0m\u001b[0m\n\u001b[0;32m---> 87\u001b[0;31m                     \u001b[0mmod\u001b[0m \u001b[0;34m=\u001b[0m \u001b[0mimport_module\u001b[0m\u001b[0;34m(\u001b[0m\u001b[0mmodule_str\u001b[0m\u001b[0;34m)\u001b[0m\u001b[0;34m\u001b[0m\u001b[0m\n\u001b[0m\u001b[1;32m     88\u001b[0m                     \u001b[0;32mif\u001b[0m \u001b[0mmod\u001b[0m\u001b[0;34m.\u001b[0m\u001b[0m__file__\u001b[0m\u001b[0;34m.\u001b[0m\u001b[0mstartswith\u001b[0m\u001b[0;34m(\u001b[0m\u001b[0mself\u001b[0m\u001b[0;34m.\u001b[0m\u001b[0mipython_extension_dir\u001b[0m\u001b[0;34m)\u001b[0m\u001b[0;34m:\u001b[0m\u001b[0;34m\u001b[0m\u001b[0m\n\u001b[1;32m     89\u001b[0m                         print((\"Loading extensions from {dir} is deprecated. \"\n",
      "\u001b[0;32m/usr/lib/python3.5/importlib/__init__.py\u001b[0m in \u001b[0;36mimport_module\u001b[0;34m(name, package)\u001b[0m\n\u001b[1;32m    124\u001b[0m                 \u001b[0;32mbreak\u001b[0m\u001b[0;34m\u001b[0m\u001b[0m\n\u001b[1;32m    125\u001b[0m             \u001b[0mlevel\u001b[0m \u001b[0;34m+=\u001b[0m \u001b[0;36m1\u001b[0m\u001b[0;34m\u001b[0m\u001b[0m\n\u001b[0;32m--> 126\u001b[0;31m     \u001b[0;32mreturn\u001b[0m \u001b[0m_bootstrap\u001b[0m\u001b[0;34m.\u001b[0m\u001b[0m_gcd_import\u001b[0m\u001b[0;34m(\u001b[0m\u001b[0mname\u001b[0m\u001b[0;34m[\u001b[0m\u001b[0mlevel\u001b[0m\u001b[0;34m:\u001b[0m\u001b[0;34m]\u001b[0m\u001b[0;34m,\u001b[0m \u001b[0mpackage\u001b[0m\u001b[0;34m,\u001b[0m \u001b[0mlevel\u001b[0m\u001b[0;34m)\u001b[0m\u001b[0;34m\u001b[0m\u001b[0m\n\u001b[0m\u001b[1;32m    127\u001b[0m \u001b[0;34m\u001b[0m\u001b[0m\n\u001b[1;32m    128\u001b[0m \u001b[0;34m\u001b[0m\u001b[0m\n",
      "\u001b[0;32m/usr/lib/python3.5/importlib/_bootstrap.py\u001b[0m in \u001b[0;36m_gcd_import\u001b[0;34m(name, package, level)\u001b[0m\n",
      "\u001b[0;32m/usr/lib/python3.5/importlib/_bootstrap.py\u001b[0m in \u001b[0;36m_find_and_load\u001b[0;34m(name, import_)\u001b[0m\n",
      "\u001b[0;32m/usr/lib/python3.5/importlib/_bootstrap.py\u001b[0m in \u001b[0;36m_find_and_load_unlocked\u001b[0;34m(name, import_)\u001b[0m\n",
      "\u001b[0;31mImportError\u001b[0m: No module named 'memory_profiler'"
     ]
    }
   ],
   "source": [
    "%load_ext memory_profiler\n",
    "import memory_profiler\n",
    "test = mk_grid(8, f)\n",
    "#%timeit fast1d(test)\n",
    "%memit fast1d(test)"
   ]
  },
  {
   "cell_type": "markdown",
   "metadata": {},
   "source": [
    "#### Convergencia del error\n",
    "Para evaluar la convergencia del error se define la siguiente función para calcularlo."
   ]
  },
  {
   "cell_type": "code",
   "execution_count": 41,
   "metadata": {
    "collapsed": true
   },
   "outputs": [],
   "source": [
    "L2error = lambda w,u: np.sqrt(np.sum((w-u)**2)/np.sum(u**2))"
   ]
  },
  {
   "cell_type": "markdown",
   "metadata": {},
   "source": [
    "#### Complejidad Algoritmica\n",
    "#### Memoria utilizada"
   ]
  }
 ],
 "metadata": {
  "kernelspec": {
   "display_name": "Python 3",
   "language": "python",
   "name": "python3"
  },
  "language_info": {
   "codemirror_mode": {
    "name": "ipython",
    "version": 3
   },
   "file_extension": ".py",
   "mimetype": "text/x-python",
   "name": "python",
   "nbconvert_exporter": "python",
   "pygments_lexer": "ipython3",
   "version": "3.5.2"
  }
 },
 "nbformat": 4,
 "nbformat_minor": 2
}
