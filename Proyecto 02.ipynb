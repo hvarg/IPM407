{
 "cells": [
  {
   "cell_type": "markdown",
   "metadata": {},
   "source": [
    "<center>\n",
    "    <h1> Proyecto #2 - Métodos basados en transformadas de Fourier </h1>\n",
    "    <h4 style=\"margin:10px;\"> IPM-407 - Modelación Computacional con Algoritmos Rápidos </h4>\n",
    "    <h3> Hernán Vargas -- 201073009-3 </h3>\n",
    "    <h4 style=\"margin:5px;\"> hernan.vargas@alumnos.usm.cl </h4>\n",
    "</center>\n",
    "\n",
    "*(Se recomienda la visualización de este documento en Jupyter Notebook 5.0, Kernel: Python 3.5.2)*"
   ]
  },
  {
   "cell_type": "markdown",
   "metadata": {},
   "source": [
    "## Descripción\n",
    "Consideren la siguiente ecuación de Poisson\n",
    "$$\n",
    "    \\frac{\\partial^2\\phi}{\\partial x^2} + \\frac{\\partial^2\\phi}{\\partial y^2} =\n",
    "    \\frac{1}{\\pi^2} \\Big[ \n",
    "        30 \\Big( \\big(\\frac{x}{\\pi}\\big)^2 - \\frac{x}{\\pi}\\Big) + \n",
    "        30 \\Big( \\big(\\frac{y}{\\pi}\\big)^2 - \\frac{y}{\\pi}\\Big) -\n",
    "        4\\pi^2 \\big(\\frac{x}{\\pi} - 1 \\big)\\sin(2y)\n",
    "    \\Big]\n",
    "$$\n",
    "en el cuadrado $0 \\leq x \\leq \\pi$ y $0 \\leq y \\leq \\pi$ y con condiciones de contorno $\\phi(0,y) = \\phi(\\pi,y) = \\phi(x,0) = \\phi(x,\\pi)= 0$.\n",
    "\n",
    "Resuelvan numéricamente esta ecuación usando:\n",
    "1. Método espectral.\n",
    "2. Diferencias finitas aceleradas con FFT en 2D (tipo pregunta 4 de la tarea 2).\n",
    "3. Diferencias finitas aceleradas con FFT en 1D (tipo pregunta 5 de la tarea 2).\n",
    "\n",
    "Para mallas de $N=[16,32,64,128]$ nodos (o más!)."
   ]
  },
  {
   "cell_type": "markdown",
   "metadata": {},
   "source": [
    "En su informe, detalle la implemtación de cada técnica y discuta los siguientes puntos:\n",
    "1. Convergencia del error.\n",
    "2. Complejidad Algoritmica (N versus Tiempo).\n",
    "3. Memoria utilizada.\n",
    "4. Conclusiones con respecto a la conveniencia de cada caso.\n",
    "\n",
    "La solución analitica de la ecuación es:\n",
    "\n",
    "$$ \\phi(x,y) = \n",
    "        15\\Big(\\big(\\frac{x}{\\pi}\\big)^2-\\frac{x}{\\pi}\\Big)\\Big(\\big(\\frac{y}{\\pi}\\big)^2-\\frac{y}{\\pi}\\Big) -\n",
    "        \\sin(2y)\\frac{\\sinh\\big(2\\pi(\\frac{x}{\\pi}-1)\\big)}{\\sinh(2\\pi)} + \n",
    "        \\Big(\\frac{x}{\\phi} - 1\\Big)\\sin(2y)\n",
    "$$"
   ]
  },
  {
   "cell_type": "markdown",
   "metadata": {},
   "source": [
    "**Ayuda:**\n",
    "- Esta tarea está inspirada en el ejemplo del libro *fundamentals of Engineering Numerical Analysis* de Parviz Moin\n",
    "- Las condiciones de borde homogénea $\\phi=0$ en los bordes son concordantes con la función seno, por lo tanto es más conveniente usar la transformada del seno. Hay una implementación de transformada del seno en `scipy.fftpack`.\n",
    "---"
   ]
  },
  {
   "cell_type": "markdown",
   "metadata": {},
   "source": [
    "## Desarrollo"
   ]
  },
  {
   "cell_type": "code",
   "execution_count": 1,
   "metadata": {
    "collapsed": true
   },
   "outputs": [],
   "source": [
    "import numpy as np;\n",
    "#import scipy as sp;\n",
    "#from scipy import linalg;\n",
    "#from scipy import sparse;\n",
    "#from scipy.sparse import linalg;\n",
    "import matplotlib;\n",
    "import matplotlib.pyplot as plt;\n",
    "#import time;"
   ]
  }
 ],
 "metadata": {
  "kernelspec": {
   "display_name": "Python 3",
   "language": "python",
   "name": "python3"
  },
  "language_info": {
   "codemirror_mode": {
    "name": "ipython",
    "version": 3
   },
   "file_extension": ".py",
   "mimetype": "text/x-python",
   "name": "python",
   "nbconvert_exporter": "python",
   "pygments_lexer": "ipython3",
   "version": "3.5.2"
  }
 },
 "nbformat": 4,
 "nbformat_minor": 2
}
